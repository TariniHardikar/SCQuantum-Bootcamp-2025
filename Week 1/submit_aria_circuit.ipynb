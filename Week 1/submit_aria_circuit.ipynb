{
 "cells": [
  {
   "cell_type": "markdown",
   "metadata": {},
   "source": [
    "# 3-Qubit Entangled Circuit on IonQ Aria QPU\n",
    "\n",
    "This notebook demonstrates how to create and submit a 3-qubit entangled circuit to IonQ Aria QPU via qBraid.\n",
    "We'll create a GHZ (Greenberger-Horne-Zeilinger) state: |000⟩ + |111⟩\n",
    "\n",
    "**Cost Estimates:**\n",
    "- Basic run (1000 shots): 3,030 credits\n",
    "- Error mitigation (2500 shots): 7,530 credits"
   ]
  },
  {
   "cell_type": "markdown",
   "metadata": {},
   "source": [
    "## Import Required Libraries"
   ]
  },
  {
   "cell_type": "code",
   "execution_count": null,
   "metadata": {},
   "outputs": [],
   "source": [
    "import qbraid\n",
    "from qiskit import QuantumCircuit, QuantumRegister, ClassicalRegister\n",
    "import matplotlib.pyplot as plt"
   ]
  },
  {
   "cell_type": "markdown",
   "metadata": {},
   "source": [
    "## Configuration\n",
    "\n",
    "Set this to `True` to enable error mitigation (requires 2500 shots minimum)"
   ]
  },
  {
   "cell_type": "code",
   "execution_count": null,
   "metadata": {},
   "outputs": [],
   "source": [
    "# Configuration\n",
    "USE_ERROR_MITIGATION = False  # Change to True for error mitigation\n",
    "\n",
    "if USE_ERROR_MITIGATION:\n",
    "    shots = 2500  # Minimum for error mitigation\n",
    "    print(\"Configuration: Error mitigation enabled (2500 shots)\")\n",
    "else:\n",
    "    shots = 1000  # Basic run\n",
    "    print(\"Configuration: Basic run (1000 shots)\")\n",
    "\n",
    "cost_credits = 3 * shots + 30  # 3 credits per shot + 30 per task\n",
    "print(f\"Estimated cost: {cost_credits} credits\")"
   ]
  },
  {
   "cell_type": "markdown",
   "metadata": {},
   "source": [
    "## Create 3-Qubit Entangled Circuit\n",
    "\n",
    "We'll create a GHZ state using:\n",
    "1. Hadamard gate on the first qubit to create superposition\n",
    "2. CNOT gates to entangle all three qubits"
   ]
  },
  {
   "cell_type": "code",
   "execution_count": null,
   "metadata": {},
   "outputs": [],
   "source": [
    "def create_3qubit_entangled_circuit():\n",
    "    \"\"\"Create a 3-qubit GHZ entangled state circuit\"\"\"\n",
    "    # Create quantum and classical registers\n",
    "    qreg = QuantumRegister(3, 'q')\n",
    "    creg = ClassicalRegister(3, 'c')\n",
    "    circuit = QuantumCircuit(qreg, creg)\n",
    "    \n",
    "    # Create GHZ state: |000⟩ + |111⟩\n",
    "    circuit.h(qreg[0])      # Put first qubit in superposition\n",
    "    circuit.cx(qreg[0], qreg[1])  # Entangle first and second qubits\n",
    "    circuit.cx(qreg[1], qreg[2])  # Entangle second and third qubits\n",
    "    \n",
    "    # Measure all qubits\n",
    "    circuit.measure(qreg, creg)\n",
    "    \n",
    "    return circuit\n",
    "\n",
    "# Create the circuit\n",
    "circuit = create_3qubit_entangled_circuit()\n",
    "print(\"Created 3-qubit GHZ entangled circuit:\")\n",
    "print(circuit)"
   ]
  },
  {
   "cell_type": "markdown",
   "metadata": {},
   "source": [
    "## Visualize the Circuit"
   ]
  },
  {
   "cell_type": "code",
   "execution_count": null,
   "metadata": {},
   "outputs": [],
   "source": [
    "# Draw the circuit\n",
    "circuit.draw(output='mpl')\n",
    "plt.show()"
   ]
  },
  {
   "cell_type": "markdown",
   "metadata": {},
   "source": [
    "## Connect to IonQ Aria Device"
   ]
  },
  {
   "cell_type": "code",
   "execution_count": null,
   "metadata": {},
   "outputs": [],
   "source": [
    "# Get IonQ Aria device (try both Aria-1 and Aria-2)\n",
    "try:\n",
    "    device = qbraid.get_device(\"ionq_aria_1\")\n",
    "    device_name = \"IonQ Aria-1\"\n",
    "except:\n",
    "    try:\n",
    "        device = qbraid.get_device(\"ionq_aria_2\")\n",
    "        device_name = \"IonQ Aria-2\"\n",
    "    except Exception as e:\n",
    "        print(f\"Error connecting to Aria devices: {e}\")\n",
    "        device = None\n",
    "        device_name = None\n",
    "\n",
    "if device:\n",
    "    print(f\"Device: {device_name}\")\n",
    "    print(f\"Device status: {device.status()}\")\n",
    "else:\n",
    "    print(\"Could not connect to any Aria device\")"
   ]
  },
  {
   "cell_type": "markdown",
   "metadata": {},
   "source": [
    "## Submit Job to IonQ Aria"
   ]
  },
  {
   "cell_type": "code",
   "execution_count": null,
   "metadata": {},
   "outputs": [],
   "source": [
    "if device:\n",
    "    # Submit job\n",
    "    job = device.run(circuit, shots=shots)\n",
    "    print(f\"Job submitted to {device_name} with {shots} shots\")\n",
    "    print(f\"Job ID: {job.id}\")\n",
    "    \n",
    "    if USE_ERROR_MITIGATION:\n",
    "        print(\"Note: Using 2500 shots (minimum for error mitigation on Aria)\")\n",
    "    else:\n",
    "        print(\"Note: Basic run without error mitigation\")\n",
    "    \n",
    "    print(f\"Estimated cost: {cost_credits} credits\")\n",
    "else:\n",
    "    print(\"Cannot submit job - no device available\")\n",
    "    job = None"
   ]
  },
  {
   "cell_type": "markdown",
   "metadata": {},
   "source": [
    "## Wait for Results and Display"
   ]
  },
  {
   "cell_type": "code",
   "execution_count": null,
   "metadata": {},
   "outputs": [],
   "source": [
    "if job:\n",
    "    # Wait for completion and get results\n",
    "    print(\"Waiting for job completion...\")\n",
    "    result = job.result()\n",
    "    \n",
    "    print(f\"Job Status: {job.status()}\")\n",
    "    print(\"Results:\")\n",
    "    counts = result.measurement_counts()\n",
    "    print(f\"Counts: {counts}\")\n",
    "else:\n",
    "    print(\"No job to wait for\")\n",
    "    counts = None"
   ]
  },
  {
   "cell_type": "markdown",
   "metadata": {},
   "source": [
    "## Visualize Results"
   ]
  },
  {
   "cell_type": "code",
   "execution_count": null,
   "metadata": {},
   "outputs": [],
   "source": [
    "if counts:\n",
    "    # Plot the results\n",
    "    from qiskit.visualization import plot_histogram\n",
    "    \n",
    "    mitigation_text = \"with Error Mitigation\" if USE_ERROR_MITIGATION else \"Basic Run\"\n",
    "    title = f\"{device_name}: 3-Qubit GHZ State Results ({mitigation_text})\"\n",
    "    \n",
    "    plot_histogram(counts, title=title)\n",
    "    plt.show()\n",
    "    \n",
    "    # Expected results for perfect GHZ state should show mainly |000⟩ and |111⟩\n",
    "    print(\"\\nExpected results for perfect GHZ state:\")\n",
    "    print(\"- High counts for |000⟩ and |111⟩\")\n",
    "    print(\"- Low/zero counts for other states |001⟩, |010⟩, |011⟩, |100⟩, |101⟩, |110⟩\")\n",
    "    \n",
    "    if USE_ERROR_MITIGATION:\n",
    "        print(\"\\nWith error mitigation, you should see:\")\n",
    "        print(\"- Better fidelity (closer to ideal 50/50 split between |000⟩ and |111⟩)\")\n",
    "        print(\"- Reduced noise in unwanted states\")\n",
    "else:\n",
    "    print(\"No results to visualize\")"
   ]
  },
  {
   "cell_type": "markdown",
   "metadata": {},
   "source": [
    "## Compare Error Mitigation vs Basic Run\n",
    "\n",
    "If you want to compare both approaches, change the configuration above and re-run the notebook."
   ]
  },
  {
   "cell_type": "code",
   "execution_count": null,
   "metadata": {},
   "outputs": [],
   "source": [
    "print(\"To compare error mitigation vs basic run:\")\n",
    "print(\"1. Run this notebook with USE_ERROR_MITIGATION = False\")\n",
    "print(\"2. Save the results\")\n",
    "print(\"3. Run again with USE_ERROR_MITIGATION = True\")\n",
    "print(\"4. Compare the fidelity and noise levels\")\n",
    "print(\"\\nCost difference:\")\n",
    "print(f\"- Basic run (1000 shots): {3 * 1000 + 30} credits\")\n",
    "print(f\"- Error mitigation (2500 shots): {3 * 2500 + 30} credits\")\n",
    "print(f\"- Additional cost for error mitigation: {(3 * 2500 + 30) - (3 * 1000 + 30)} credits\")"
   ]
  },
  {
   "cell_type": "markdown",
   "metadata": {},
   "source": [
    "## Summary\n",
    "\n",
    "This notebook demonstrated:\n",
    "1. Creating a 3-qubit GHZ entangled state circuit\n",
    "2. Submitting the circuit to IonQ Aria QPU via qBraid\n",
    "3. Options for basic run vs error mitigation\n",
    "4. Retrieving and visualizing the results\n",
    "\n",
    "The GHZ state should produce measurements primarily in the |000⟩ and |111⟩ basis states, demonstrating quantum entanglement across all three qubits. Error mitigation can improve the fidelity at the cost of additional shots and credits."
   ]
  }
 ],
 "metadata": {
  "kernelspec": {
   "display_name": "Python 3",
   "language": "python",
   "name": "python3"
  },
  "language_info": {
   "codemirror_mode": {
    "name": "ipython",
    "version": 3
   },
   "file_extension": ".py",
   "mimetype": "text/x-python",
   "name": "python",
   "nbconvert_exporter": "python",
   "pygments_lexer": "ipython3",
   "version": "3.8.5"
  }
 },
 "nbformat": 4,
 "nbformat_minor": 4
}