{
 "cells": [
  {
   "cell_type": "markdown",
   "metadata": {},
   "source": [
    "<h1 style=\"color:#D30982;\">Welcome to the SCQuantum Bootcamp!</h1>\n",
    "\n",
    "about qBraid: Our **mission** is to facilitate the quantum computing revolution; to do this, we are creating a *one-stop* platform for developing and running quantum algorithms, *as well as* learning about quantum computing. We believe that in order for the potential of quantum computing to be realized, for it to really be applied to all the fields it promises to revolutionize, it must be widely accessible. We are here to help the next generation of programmers to \"think quantum\".\n",
    "\n",
    "In this welcome page, you will find: <br>\n",
    "1. <a href=\"#understanding_UI\">Instructions on how to navigate the User Interface</a> <br>\n",
    "2. <a href=\"#writing_program\">Instructions on how to write and run a quantum program on a real quantum computer! Don't worry if you don't completely understand all the details of the program. The point is to show that it is incredible simple to run programs on a real quantum computer.</a> <br>\n",
    "3. <a href=\"#overview\">Overview of the basic functions of qBraid Lab.</a> <br>\n",
    "\n",
    "At qBraid, you can start developing and running quantum programs right away without having to install *anything* on your local machine. You will have access to state-of-the-art libraries for applications of quantum computing, and you will be able to run the quantum algorithms you develop on the state-of-the-art quantum hardware offered by providers around the world (note: *we* do not develop quantum hardware!). We believe that running a quantum program should be as simple as checking your email. To see this in action for yourself, run the following code cell to draw your first quantum circuit. You can click anywhere in the following code cell and press `Shift+Enter` to run it. Run the second code cell to execute the quantum circuit."
   ]
  },
  {
   "cell_type": "code",
   "execution_count": 1,
   "metadata": {},
   "outputs": [
    {
     "data": {
      "image/png": "[encoded data removed]",
      "text/plain": [
       "<Figure size 185.453x200.667 with 1 Axes>"
      ]
     },
     "execution_count": 1,
     "metadata": {},
     "output_type": "execute_result"
    }
   ],
   "source": [
    "from qiskit import *\n",
    "\n",
    "# Create a Quantum Circuit acting on a single qubit\n",
    "circ = QuantumCircuit(1,1)\n",
    "\n",
    "# Add a Hadamard (H) gate on qubit 0, putting this qubit in superposition.\n",
    "circ.h(0)\n",
    "circ.draw(output='mpl')\n",
    "#the second wire represents the classical bit in which the outcome of the future measurement will be stored."
   ]
  },
  {
   "cell_type": "code",
   "execution_count": 2,
   "metadata": {},
   "outputs": [
    {
     "name": "stdout",
     "output_type": "stream",
     "text": [
      "==================================\n",
      "\n",
      "Below is the output of executing the circuit 1000 times.\n",
      "\n",
      "==================================\n",
      "\n",
      "Also, congratulations on running a quantum program!\n",
      "\n",
      "==================================\n"
     ]
    },
    {
     "data": {
      "image/png": "[encoded data removed]",
      "text/plain": [
       "<Figure size 640x480 with 1 Axes>"
      ]
     },
     "execution_count": 2,
     "metadata": {},
     "output_type": "execute_result"
    }
   ],
   "source": [
    "circ.measure(0,0)\n",
    "\n",
    "# Import Aer and execute\n",
    "from qiskit_aer import AerSimulator\n",
    "backend_sim = AerSimulator(target='qasm_simulator')\n",
    "\n",
    "sim = backend_sim.run(circ, shots=1000)\n",
    "sim_result = sim.result()\n",
    "counts = sim_result.get_counts(circ)\n",
    "\n",
    "print('==================================')\n",
    "print('\\nBelow is the output of executing the circuit 1000 times.')\n",
    "print('\\n==================================')\n",
    "print('\\nAlso, congratulations on running a quantum program!')\n",
    "print('\\n==================================')\n",
    "\n",
    "# We can plot the outcomes stored in the variable 'counts' using the following code:\n",
    "from qiskit.visualization import plot_histogram\n",
    "plot_histogram(counts)"
   ]
  },
  {
   "cell_type": "markdown",
   "metadata": {},
   "source": [
    "<h2 style=\"color:#9A11DA;\">Understanding the Basics of the User Interface:  </h2>  <a name=\"understanding_UI\"></a>\n",
    "\n",
    "qBraid is built on top of the open source platform *jupyterlab*. The heart and soul of jupyterlab are *jupyter notebooks*, such as this 'Welcome.ipynb' page. In a single jupyter notebook, you can take notes, write and run code, make animations, and do plenty of other cool things. This makes the jupyter notebook setting perfectly suited for learning an interdisciplinary subject like quantum computing, which is situated at the interface of Mathematics, Physics, and Computer science. \n",
    "\n",
    "The following will guide you through our user interface."
   ]
  },
  {
   "cell_type": "markdown",
   "metadata": {},
   "source": [
    "<font size = 3 color=9A11DA>**(i) Create a new folder**</font>\n",
    "\n",
    "First off, you should know that qBraid Lab starts up with downloaded and organized tutorials from some of the most common providers of both quantum hardware and software. These tutorials are bundled into the folder `qbraid-tutorials`. This folder gets updated occasionally and so, if you want to make sure any edits you make last, it's best to copy and rename the folder.\n",
    "\n",
    "To create a new folder, click on the folder icon with a '+' overlayed. You can rename the folder you created by right clicking on it.\n",
    "\n",
    "<font size = 3 color=9A11DA>**(ii) Create a new notebook**</font>\n",
    "\n",
    "Once you are inside your folder, click on the `+` icon to create a new *notebook* (these are how files are referred to in jupyter). This will bring up the Launcher, which provides you with options to create various types of files. Click on 'Python 3' under the notebook heading to create a new (Python 3 language based) jupyter notebook. The default name for all new notebooks is 'Untitled.ipynb'. You can rename it by right clicking on the file. \n",
    "\n",
    "<font size = 3 color=9A11DA>**(iii) Start coding**</font>\n",
    "\n",
    "This is it! You can now start typing Python code in the first cell of your new notebook, and you can add new cells by clicking on the `+` icon above the notebook. You can run the code in a cell by pressing `Shift+Enter`.\n",
    "\n",
    "To begin writing a quantum program, all that is left to do is to import the relevant packages. To get started, you can copy the quantum program at the top of this welcome notebook.\n",
    "\n",
    "<font size = 3 color=9A11DA>**(iv) Environment Manager**</font>\n",
    "\n",
    "On the top right corner of qBraid, you can find `ENVS` extension. This is qBraid environment manager. This allows you to install multiple python environments to your qBraid account. Clicking on `ENVS` will open the extension. You will need correct permissions to access the environment manager. Upon making a qBraid account, you should have received an email with access codes. Use these access codes to get the correct permissions. Follow instructions [here](https://qbraid-qbraid.readthedocs-hosted.com/en/latest/lab/account.html#add-access-key). To install/create new environments follow the instructions [here](https://qbraid-qbraid.readthedocs-hosted.com/en/latest/lab/environments.html).\n",
    "\n",
    "<font size = 3 color=9A11DA>**(v) Quantum Jobs**</font>\n",
    "\n",
    "Just below the environment manager extension, you will find the quantum jobs extension. This is the extension that you will use to track all your quantum jobs. You will be able to get details of various jobs you have run on simulators/quantum computers through this extension. Follow the instructions below to run your first quantum job and see it appear in the quantum jobs extension."
   ]
  },
  {
   "cell_type": "markdown",
   "metadata": {},
   "source": [
    "<font size = 6 color=9A11DA>**Running a quantum circuit on various quantum computer**</font>\n",
    "\n",
    "\n",
    "<font size = 3 color=9A11DA>**(i) Install the Amazon Braket environment**</font>\n",
    "\n",
    "Click on `ENVS` (top right) which should bring up the environment manager. Click on `+ Add` and it should bring up the screen with all the environments. Click on &#x2304; next to the Amazon Braket environment and click on `Install`. Click `Browse Environments` on the top, to come to the previous screen. You will observe the environment is installing. Give it a couple of minutes to finish. Once the installing has finished, click `Activate` to activate the environment.\n"
   ]
  },
  {
   "cell_type": "markdown",
   "metadata": {},
   "source": [
    "<font size = 3 color=9A11DA>**(ii) Change the kernel**</font>\n",
    "\n",
    "Once the environment is `Active`, change the kernel by click on the button left to `ENVS`. The button would read `No Kernel`/`Python 3 [Default]`. Clicking the button will bring up a drop-down menu. Choose the `Python 3 [Braket]` kernel. With the correct kernel active, you are now ready to run the following pieces code that will allow you to run your code on a real quantum computer:\n",
    "\n"
   ]
  },
  {
   "cell_type": "markdown",
   "metadata": {},
   "source": [
    "<font size = 3 color=9A11DA>**(iii) Configure access to quantum computer**</font>\n",
    "\n",
    " The following line of code configures your qBraid account to connect to\n",
    " Rigetti, IonQ, OQC and many other quantum computers and simulators through\n",
    " qBraid!\n"
   ]
  },
  {
   "cell_type": "code",
   "execution_count": 3,
   "metadata": {},
   "outputs": [],
   "source": [
    "#You only need to run this line once after you install the environment\n",
    "\n",
    "from qbraid import QbraidProvider\n",
    "\n",
    "provider = QbraidProvider()"
   ]
  },
  {
   "cell_type": "markdown",
   "metadata": {},
   "source": [
    "<font size = 3 color=9A11DA>**(iv) Imports and supported gates**</font>\n",
    "\n",
    "The following piece of code imports all the required packages that you would need for building circuits and submitting the code to various quantum computers.\n",
    "\n",
    "In the code block right after that, we get the gate set supported by all the different machines."
   ]
  },
  {
   "cell_type": "code",
   "execution_count": null,
   "metadata": {},
   "outputs": [],
   "source": [
    "\n",
    "# general imports\n",
    "import numpy as np\n",
    "import matplotlib.pyplot as plt\n",
    "# magic word for producing visualizations in notebook\n",
    "%matplotlib inline\n",
    "import string\n",
    "import time\n",
    "\n",
    "# AWS imports: Import Braket SDK modules\n",
    "from braket.circuits import Circuit, Gate, Instruction, circuit, Observable\n",
    "from braket.devices import LocalSimulator\n",
    "from braket.aws import AwsDevice, AwsQuantumTask"
   ]
  },
  {
   "cell_type": "code",
   "execution_count": 5,
   "metadata": {},
   "outputs": [
    {
     "name": "stdout",
     "output_type": "stream",
     "text": [
      "QbraidDevice('aws_sv1')\n",
      "QbraidDevice('aws_tn1')\n",
      "QbraidDevice('quera_aquila')\n",
      "QbraidDevice('aws_dm1')\n",
      "QbraidDevice('qbraid_qir_simulator')\n",
      "QbraidDevice('iqm_garnet')\n",
      "QbraidDevice('quera_qasm_simulator')\n",
      "QbraidDevice('ionq_simulator')\n",
      "QbraidDevice('nec_vector_annealer')\n",
      "QbraidDevice('rigetti_ankaa_3')\n",
      "QbraidDevice('iqm_emerald')\n"
     ]
    },
    {
     "name": "stderr",
     "output_type": "stream",
     "text": [
      "/Users/jamesbrown/Documents/Coding/environments/qbraid/lib/python3.12/site-packages/qbraid/runtime/native/provider.py:151: RuntimeWarning: The default runtime configuration for device 'qbraid_qir_simulator' includes transpilation to program type 'pyqir', which is not registered.\n",
      "  warnings.warn(\n"
     ]
    }
   ],
   "source": [
    "devices = provider.get_devices()\n",
    "for device in devices:\n",
    "    print(device)"
   ]
  },
  {
   "cell_type": "markdown",
   "metadata": {},
   "source": [
    "<font size = 3 color=9A11DA>**(v) Prepare a circuit and print it**</font>\n",
    "\n",
    "Now we will prepare a circuit which is one of the most important circuits in the field of quantum computation. It is called a bell circuit and it is given by the following diagram"
   ]
  },
  {
   "cell_type": "code",
   "execution_count": 8,
   "metadata": {
    "pycharm": {
     "name": "#%%\n"
    }
   },
   "outputs": [],
   "source": [
    "# define circuit\n",
    "bell = Circuit().h(0).cnot(0, 1)"
   ]
  },
  {
   "cell_type": "code",
   "execution_count": 9,
   "metadata": {},
   "outputs": [
    {
     "name": "stdout",
     "output_type": "stream",
     "text": [
      "T  : │  0  │  1  │\n",
      "      ┌───┐       \n",
      "q0 : ─┤ H ├───●───\n",
      "      └───┘   │   \n",
      "            ┌─┴─┐ \n",
      "q1 : ───────┤ X ├─\n",
      "            └───┘ \n",
      "T  : │  0  │  1  │\n"
     ]
    }
   ],
   "source": [
    "# print circuit\n",
    "print(bell)"
   ]
  },
  {
   "cell_type": "markdown",
   "metadata": {},
   "source": [
    "<font size = 3 color=9A11DA>**(v) Submit the circuit to Amazons sv1 quantum simulator**</font>\n",
    "\n",
    "Next we submit our circuit to the superconducting quantum chip provided by IQM. Depending on our position in the queue, we may have to wait for some time till our circuit is actually run. However, thanks to asynchronous execution, we can always come back and recover the results by providing the unique ID associated with every task. "
   ]
  },
  {
   "cell_type": "code",
   "execution_count": null,
   "metadata": {
    "pycharm": {
     "name": "#%%\n"
    }
   },
   "outputs": [
    {
     "name": "stdout",
     "output_type": "stream",
     "text": [
      "Status of task: JobStatus.INITIALIZING\n"
     ]
    }
   ],
   "source": [
    "# set up device\n",
    "rigetti = provider.get_device(\"rigetti_ankaa_3\")\n",
    "\n",
    "# create a clean circuit with no result type attached.(This is because some result types are only supported when shots=0)\n",
    "bell = Circuit().h(0).cnot(0, 1).measure([0, 1])\n",
    "\n",
    "# run circuit \n",
    "rigetti_task = rigetti.run(bell, shots=10)\n",
    "\n",
    "# get id and status of submitted task\n",
    "# rigetti_task_id = rigetti_task.id\n",
    "rigetti_task_id = rigetti_task.id\n",
    "rigetti_status = rigetti_task.status()\n",
    "# print('ID of task:', rigetti_task_id)\n",
    "print('Status of task:', rigetti_status)"
   ]
  },
  {
   "cell_type": "markdown",
   "metadata": {},
   "source": [
    "<font size = 3 color=9A11DA>**(vi) Checking the status of the task**</font>\n",
    "\n",
    "The task is submitted and we can regularly (or irregularly) check the status of this task by executing the following cell. You may easily build logic around this query to wait for this task to complete before your code proceeds. \n",
    "\n",
    "You can also verify that the task has been submitted by going to the quantum jobs extension. Click `QJOBS` and then click the refresh button the top. You will see your job appear."
   ]
  },
  {
   "cell_type": "code",
   "execution_count": 23,
   "metadata": {
    "pycharm": {
     "name": "#%%\n"
    }
   },
   "outputs": [
    {
     "name": "stdout",
     "output_type": "stream",
     "text": [
      "Status of (reconstructed) task: JobStatus.COMPLETED\n",
      "aws_sv1-james-qjob-r2kuyr6c5o1p4ofk9wl9\n"
     ]
    }
   ],
   "source": [
    "# print status\n",
    "status = rigetti_task.status()\n",
    "print('Status of (reconstructed) task:', status)\n",
    "print(rigetti_task_id)"
   ]
  },
  {
   "cell_type": "code",
   "execution_count": 24,
   "metadata": {},
   "outputs": [
    {
     "name": "stdout",
     "output_type": "stream",
     "text": [
      "Result(\n",
      "  device_id=aws_sv1,\n",
      "  job_id=aws_sv1-james-qjob-r2kuyr6c5o1p4ofk9wl9,\n",
      "  success=True,\n",
      "  data=GateModelResultData(measurement_counts={'11': 4, '00': 6}, measurements=array(shape=(0,), dtype=object), measurement_probabilities=None),\n",
      "  status='COMPLETED',\n",
      "  statusText='job has successfully run',\n",
      "  shots=10,\n",
      "  experimentType=GATE_MODEL,\n",
      "  timeStamps={createdAt: 2025-08-19T13:42:53Z, endedAt: 2025-08-19T13:42:55Z, executionDuration: 2},\n",
      "  tags={},\n",
      "  cost=Credits('0.375'),\n",
      "  preflight=False,\n",
      "  schemaHeader={name: 'qbraid.runtime.schemas.job', version: 1.0},\n",
      "  metadata={openQasm: '...', circuitNumQubits: 2, circuitDepth: 3}\n",
      ")\n"
     ]
    }
   ],
   "source": [
    "result = rigetti_task.result()\n",
    "print(result)"
   ]
  },
  {
   "cell_type": "markdown",
   "metadata": {
    "pycharm": {
     "name": "#%% md\n"
    }
   },
   "source": [
    "<font size = 3 color=9A11DA>**(vii) Retrieving quantum jobs**</font>\n"
   ]
  },
  {
   "cell_type": "markdown",
   "metadata": {},
   "source": [
    "By simply grabbing the unique job ID associated with the quantum tasks we have submitted above, we can recover this task at any point in time and (once the status is completed) visualize and analyze the corresponding results. You can easily find the job/task id from the quantum jobs extension. Click on `JOBS`, and then click on `›` to get the details of the quantum job. Click on the copy symbol next to JobID and paste in the code below to get the details for your quantum job.\n",
    "\n",
    "Note that apart from other metadata, you can retrieve the compiled circuit that was actually run on the Rigetti device. "
   ]
  },
  {
   "cell_type": "code",
   "execution_count": 26,
   "metadata": {
    "pycharm": {
     "name": "#%%\n"
    }
   },
   "outputs": [
    {
     "name": "stdout",
     "output_type": "stream",
     "text": [
      "{'_value_': 'COMPLETED', 'default_message': 'job has successfully run', 'status_message': None, '_name_': 'COMPLETED', '__objclass__': <enum 'JobStatus'>, '_sort_order_': 6}\n",
      "Status of (reconstructed) task: JobStatus.COMPLETED\n",
      "\n",
      "\n",
      "Result(\n",
      "  device_id=aws_sv1,\n",
      "  job_id=aws_sv1-james-qjob-r2kuyr6c5o1p4ofk9wl9,\n",
      "  success=True,\n",
      "  data=GateModelResultData(measurement_counts={'11': 4, '00': 6}, measurements=array(shape=(0,), dtype=object), measurement_probabilities=None),\n",
      "  status='COMPLETED',\n",
      "  statusText='job has successfully run',\n",
      "  shots=10,\n",
      "  experimentType=GATE_MODEL,\n",
      "  timeStamps={createdAt: 2025-08-19T13:42:53Z, endedAt: 2025-08-19T13:42:55Z, executionDuration: 2},\n",
      "  tags={},\n",
      "  cost=Credits('0.375'),\n",
      "  preflight=False,\n",
      "  schemaHeader={name: 'qbraid.runtime.schemas.job', version: 1.0},\n",
      "  metadata={openQasm: '...', circuitNumQubits: 2, circuitDepth: 3}\n",
      ")\n",
      "10 shots taken on machine aws_sv1.\n",
      "\n",
      "The compiled circuit is:\n",
      " OPENQASM 3.0;\n",
      "bit[2] b;\n",
      "qubit[2] q;\n",
      "h q[0];\n",
      "cnot q[0], q[1];\n",
      "b[0] = measure q[0];\n",
      "b[1] = measure q[1];\n",
      "\n",
      "Measurement counts: {'11': 4, '00': 6}\n"
     ]
    },
    {
     "data": {
      "image/png": "[encoded data removed]",
      "text/plain": [
       "<Figure size 640x480 with 1 Axes>"
      ]
     },
     "metadata": {},
     "output_type": "display_data"
    }
   ],
   "source": [
    "from qbraid.runtime import load_job\n",
    "\n",
    "job = load_job(rigetti_task_id)\n",
    "\n",
    "\n",
    "# print status\n",
    "status = job.status()\n",
    "print(status.__dict__)\n",
    "print('Status of (reconstructed) task:', status)\n",
    "print('\\n')\n",
    "# wait for job to complete\n",
    "# terminal_states = ['COMPLETED', 'FAILED', 'CANCELLED']\n",
    "if status._value_ == 'COMPLETED':\n",
    "    # get results\n",
    "    rigetti_results = job.result()\n",
    "    print(rigetti_results)\n",
    "    \n",
    "    # get all metadata of submitted task\n",
    "    metadata = job.metadata()\n",
    "    # example for metadata\n",
    "    shots = metadata['shots']\n",
    "    machine = metadata['device_id']\n",
    "    # print example metadata\n",
    "    print(\"{} shots taken on machine {}.\\n\".format(shots, machine))\n",
    "    \n",
    "    # get the compiled circuit\n",
    "    print(\"The compiled circuit is:\\n\", rigetti_results.details[\"metadata\"][\"openQasm\"])\n",
    "    \n",
    "    # get measurement counts\n",
    "    rigetti_counts = rigetti_results.data.measurement_counts\n",
    "    print('Measurement counts:', rigetti_counts)\n",
    "\n",
    "    # plot results: see effects of noise\n",
    "    plt.bar(rigetti_counts.keys(), rigetti_counts.values())\n",
    "    plt.xlabel('bitstrings')\n",
    "    plt.ylabel('counts')\n",
    "    plt.tight_layout()\n",
    "    plt.savefig('rigetti.png', dpi=700)\n",
    "    \n",
    "elif status in ['FAILED', 'CANCELLED']:\n",
    "    # print terminal message \n",
    "    print('Your task is in terminal status, but has not completed.')\n",
    "\n",
    "else:\n",
    "    # print current status\n",
    "    print('Sorry, your task is still being processed and has not been finalized yet.')"
   ]
  }
 ],
 "metadata": {
  "kernelspec": {
   "display_name": "qbraid",
   "language": "python",
   "name": "python3"
  },
  "language_info": {
   "codemirror_mode": {
    "name": "ipython",
    "version": 3
   },
   "file_extension": ".py",
   "mimetype": "text/x-python",
   "name": "python",
   "nbconvert_exporter": "python",
   "pygments_lexer": "ipython3",
   "version": "3.12.8"
  },
  "toc-autonumbering": true,
  "toc-showcode": false,
  "toc-showmarkdowntxt": false,
  "widgets": {
   "application/vnd.jupyter.widget-state+json": {
    "state": {},
    "version_major": 2,
    "version_minor": 0
   }
  },
  "youtube": [
   {
    "link": "https://www.youtube.com/watch?v=wAOldthIp88",
    "name": "Wave Particle Duality"
   },
   {
    "link": "https://www.youtube.com/watch?v=nM5KJMuJyNY",
    "name": "Quantum Cryptography"
   }
  ]
 },
 "nbformat": 4,
 "nbformat_minor": 4
}
