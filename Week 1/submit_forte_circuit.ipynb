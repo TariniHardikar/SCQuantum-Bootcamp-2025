{
 "cells": [
  {
   "cell_type": "markdown",
   "metadata": {},
   "source": [
    "# 3-Qubit Entangled Circuit on IonQ Forte QPU\n",
    "\n",
    "This notebook demonstrates how to create and submit a 3-qubit entangled circuit to IonQ Forte QPU via qBraid.\n",
    "We'll create a GHZ (Greenberger-Horne-Zeilinger) state: |000⟩ + |111⟩\n",
    "\n",
    "**Cost Estimate:** 8 credits per shot + 30 credits per task"
   ]
  },
  {
   "cell_type": "markdown",
   "metadata": {},
   "source": [
    "## Import Required Libraries"
   ]
  },
  {
   "cell_type": "code",
   "execution_count": null,
   "metadata": {},
   "outputs": [],
   "source": [
    "import qbraid\n",
    "from qiskit import QuantumCircuit, QuantumRegister, ClassicalRegister\n",
    "import matplotlib.pyplot as plt"
   ]
  },
  {
   "cell_type": "markdown",
   "metadata": {},
   "source": [
    "## Create 3-Qubit Entangled Circuit\n",
    "\n",
    "We'll create a GHZ state using:\n",
    "1. Hadamard gate on the first qubit to create superposition\n",
    "2. CNOT gates to entangle all three qubits"
   ]
  },
  {
   "cell_type": "code",
   "execution_count": null,
   "metadata": {},
   "outputs": [],
   "source": [
    "def create_3qubit_entangled_circuit():\n",
    "    \"\"\"Create a 3-qubit GHZ entangled state circuit\"\"\"\n",
    "    # Create quantum and classical registers\n",
    "    qreg = QuantumRegister(3, 'q')\n",
    "    creg = ClassicalRegister(3, 'c')\n",
    "    circuit = QuantumCircuit(qreg, creg)\n",
    "    \n",
    "    # Create GHZ state: |000⟩ + |111⟩\n",
    "    circuit.h(qreg[0])      # Put first qubit in superposition\n",
    "    circuit.cx(qreg[0], qreg[1])  # Entangle first and second qubits\n",
    "    circuit.cx(qreg[1], qreg[2])  # Entangle second and third qubits\n",
    "    \n",
    "    # Measure all qubits\n",
    "    circuit.measure(qreg, creg)\n",
    "    \n",
    "    return circuit\n",
    "\n",
    "# Create the circuit\n",
    "circuit = create_3qubit_entangled_circuit()\n",
    "print(\"Created 3-qubit GHZ entangled circuit:\")\n",
    "print(circuit)"
   ]
  },
  {
   "cell_type": "markdown",
   "metadata": {},
   "source": [
    "## Visualize the Circuit"
   ]
  },
  {
   "cell_type": "code",
   "execution_count": null,
   "metadata": {},
   "outputs": [],
   "source": [
    "# Draw the circuit\n",
    "circuit.draw(output='mpl')\n",
    "plt.show()"
   ]
  },
  {
   "cell_type": "markdown",
   "metadata": {},
   "source": [
    "## Connect to IonQ Forte Device"
   ]
  },
  {
   "cell_type": "code",
   "execution_count": null,
   "metadata": {},
   "outputs": [],
   "source": [
    "# Get IonQ Forte device\n",
    "device = qbraid.get_device(\"ionq_forte\")\n",
    "print(f\"Device: {device}\")\n",
    "print(f\"Device status: {device.status()}\")"
   ]
  },
  {
   "cell_type": "markdown",
   "metadata": {},
   "source": [
    "## Submit Job to IonQ Forte"
   ]
  },
  {
   "cell_type": "code",
   "execution_count": null,
   "metadata": {},
   "outputs": [],
   "source": [
    "# Submit job with 1000 shots\n",
    "shots = 1000\n",
    "job = device.run(circuit, shots=shots)\n",
    "print(f\"Job submitted to IonQ Forte with {shots} shots\")\n",
    "print(f\"Job ID: {job.id}\")\n",
    "\n",
    "# Calculate estimated cost\n",
    "cost_credits = 8 * shots + 30  # 8 credits per shot + 30 per task\n",
    "print(f\"Estimated cost: {cost_credits} credits\")"
   ]
  },
  {
   "cell_type": "markdown",
   "metadata": {},
   "source": [
    "## Wait for Results and Display"
   ]
  },
  {
   "cell_type": "code",
   "execution_count": null,
   "metadata": {},
   "outputs": [],
   "source": [
    "# Wait for completion and get results\n",
    "print(\"Waiting for job completion...\")\n",
    "result = job.result()\n",
    "\n",
    "print(f\"Job Status: {job.status()}\")\n",
    "print(\"Results:\")\n",
    "counts = result.measurement_counts()\n",
    "print(f\"Counts: {counts}\")"
   ]
  },
  {
   "cell_type": "markdown",
   "metadata": {},
   "source": [
    "## Visualize Results"
   ]
  },
  {
   "cell_type": "code",
   "execution_count": null,
   "metadata": {},
   "outputs": [],
   "source": [
    "# Plot the results\n",
    "from qiskit.visualization import plot_histogram\n",
    "\n",
    "plot_histogram(counts, title=\"IonQ Forte: 3-Qubit GHZ State Results\")\n",
    "plt.show()\n",
    "\n",
    "# Expected results for perfect GHZ state should show mainly |000⟩ and |111⟩\n",
    "print(\"\\nExpected results for perfect GHZ state:\")\n",
    "print(\"- High counts for |000⟩ and |111⟩\")\n",
    "print(\"- Low/zero counts for other states |001⟩, |010⟩, |011⟩, |100⟩, |101⟩, |110⟩\")"
   ]
  },
  {
   "cell_type": "markdown",
   "metadata": {},
   "source": [
    "## Summary\n",
    "\n",
    "This notebook demonstrated:\n",
    "1. Creating a 3-qubit GHZ entangled state circuit\n",
    "2. Submitting the circuit to IonQ Forte QPU via qBraid\n",
    "3. Retrieving and visualizing the results\n",
    "\n",
    "The GHZ state should produce measurements primarily in the |000⟩ and |111⟩ basis states, demonstrating quantum entanglement across all three qubits."
   ]
  }
 ],
 "metadata": {
  "kernelspec": {
   "display_name": "Python 3",
   "language": "python",
   "name": "python3"
  },
  "language_info": {
   "codemirror_mode": {
    "name": "ipython",
    "version": 3
   },
   "file_extension": ".py",
   "mimetype": "text/x-python",
   "name": "python",
   "nbconvert_exporter": "python",
   "pygments_lexer": "ipython3",
   "version": "3.8.5"
  }
 },
 "nbformat": 4,
 "nbformat_minor": 4
}